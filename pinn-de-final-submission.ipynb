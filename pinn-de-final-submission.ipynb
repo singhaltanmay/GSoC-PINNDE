{
 "cells": [
  {
   "cell_type": "markdown",
   "id": "215276ec-55a2-4a97-a8e6-d6d4d6ee63e4",
   "metadata": {
    "papermill": {
     "duration": 0.005033,
     "end_time": "2025-03-19T15:49:43.454193",
     "exception": false,
     "start_time": "2025-03-19T15:49:43.449160",
     "status": "completed"
    },
    "tags": []
   },
   "source": [
    "# Problem description\n",
    "\n",
    "This notebook is solution for the task under the project Physics-Informed Neural Network Diffusion Equation (PINNDE) by GENIE @ ML4SCI under GSoC'25.\n",
    "\n",
    "In this notebook we will implement a PINN to solve the following damped harmonic oscillator differential equation using various approaches\n",
    "\n",
    "### Differential Equation:\n",
    "The given second-order differential equation is:\n",
    "<div align=\"center\">\n",
    "\n",
    "#### $\\frac{d^2x}{dz^2} + 2\\xi \\frac{dx}{dz} + x = 0$\n",
    "\n",
    "</div>\n",
    "\n",
    "with the initial conditions:\n",
    "\n",
    "<div align=\"center\">\n",
    "    \n",
    "#### $x(0) = x_0, \\quad \\frac{dx}{dz}(0) = v_0, \\quad \\text{where} \\quad x_0 =$ $0.7, \\quad v_0 = 1.2.$\n",
    "\n",
    "</div>\n",
    "\n",
    "The damping ratio ranges as:\n",
    "\n",
    "<div align=\"center\">\n",
    "\n",
    "#### $\\xi \\in [0.1, 0.4].$\n",
    "\n",
    "</div>\n",
    "\n",
    "The solution is sought over the domain:\n",
    "\n",
    "<div align=\"center\">\n",
    "\n",
    "#### $z \\in [0, 20].$\n",
    "\n",
    "</div>\n"
   ]
  },
  {
   "cell_type": "code",
   "execution_count": 1,
   "id": "1ddec82d",
   "metadata": {
    "execution": {
     "iopub.execute_input": "2025-03-19T15:49:43.464140Z",
     "iopub.status.busy": "2025-03-19T15:49:43.463835Z",
     "iopub.status.idle": "2025-03-19T15:49:47.254018Z",
     "shell.execute_reply": "2025-03-19T15:49:47.253292Z"
    },
    "papermill": {
     "duration": 3.79701,
     "end_time": "2025-03-19T15:49:47.255633",
     "exception": false,
     "start_time": "2025-03-19T15:49:43.458623",
     "status": "completed"
    },
    "tags": []
   },
   "outputs": [],
   "source": [
    "# necessary imports and configs\n",
    "import warnings\n",
    "warnings.filterwarnings('ignore')\n",
    "import pandas as pd\n",
    "import numpy as np\n",
    "import torch\n",
    "import torch.nn as nn\n",
    "import torch.optim as optim\n",
    "device = 'cuda' if torch.cuda.is_available() else 'cpu'\n",
    "\n",
    "x0 = 0.7\n",
    "v0 = 1.2\n",
    "z_min = 0.0\n",
    "z_max = 20\n",
    "xi_min = 0.1\n",
    "xi_max = 0.4"
   ]
  },
  {
   "cell_type": "markdown",
   "id": "75c4d27a",
   "metadata": {
    "papermill": {
     "duration": 0.004042,
     "end_time": "2025-03-19T15:49:47.264433",
     "exception": false,
     "start_time": "2025-03-19T15:49:47.260391",
     "status": "completed"
    },
    "tags": []
   },
   "source": [
    "## Generating correct physical data for evaluating approaches\n",
    "\n",
    "Since this equation can be solved, I can benchmark proposed models using the analytical solutio of the equation, hence I will curate an `eval_dataset`.\n",
    "\n",
    "### Solution of the equation\n",
    "\n",
    "<div align=\"center\">\n",
    "\n",
    "#### $x(z, \\xi) = e^{-\\xi z} \\left( 0.7 \\cos(\\omega_d z) + \\frac{1.2 + 0.7\\xi}{\\omega_d} \\sin(\\omega_d z) \\right),$\n",
    "\n",
    "</div>\n",
    "\n",
    "wher,\n",
    "\n",
    "<div align=\"center\">\n",
    "\n",
    "#### $\\omega_d = \\sqrt{1 - \\xi^2}.$\n",
    "\n",
    "</div>\n",
    "\n",
    "#### NOTE : This Dataset will contain various values of $z$, $\\xi$ and their corresponding $x$ values and will only be used for evaluating PINNs"
   ]
  },
  {
   "cell_type": "code",
   "execution_count": 2,
   "id": "ef04da9f",
   "metadata": {
    "execution": {
     "iopub.execute_input": "2025-03-19T15:49:47.273572Z",
     "iopub.status.busy": "2025-03-19T15:49:47.273199Z",
     "iopub.status.idle": "2025-03-19T15:49:47.278551Z",
     "shell.execute_reply": "2025-03-19T15:49:47.277748Z"
    },
    "papermill": {
     "duration": 0.011289,
     "end_time": "2025-03-19T15:49:47.279853",
     "exception": false,
     "start_time": "2025-03-19T15:49:47.268564",
     "status": "completed"
    },
    "tags": []
   },
   "outputs": [],
   "source": [
    "def generate_eval_dataset(num_samples=100, save_path=\"./\"):\n",
    "    # Randomly sample z and xi values within the given range\n",
    "    z_random = np.random.uniform(z_min, z_max, num_samples)\n",
    "    xi_random = np.random.uniform(xi_min, xi_max, num_samples)\n",
    "    \n",
    "    # Compute corresponding x values based on the analytical solution\n",
    "    data_random = []\n",
    "    \n",
    "    for z, xi in zip(z_random, xi_random):\n",
    "        omega_d = np.sqrt(1 - xi**2)  \n",
    "        C1 = x0  \n",
    "        C2 = (v0 + xi * x0) / omega_d  \n",
    "    \n",
    "        x = np.exp(-xi * z) * (C1 * np.cos(omega_d * z) + C2 * np.sin(omega_d * z))\n",
    "        data_random.append([z, xi, x])\n",
    "    \n",
    "    df_random = pd.DataFrame(data_random, columns=[\"z\", \"xi\", \"x\"])\n",
    "    \n",
    "    dataset_random_path = save_path + \"pinn_de_dataset.csv\"\n",
    "    df_random.to_csv(dataset_random_path, index=False)\n",
    "\n",
    "    return df_random\n"
   ]
  },
  {
   "cell_type": "code",
   "execution_count": 3,
   "id": "c38d1643",
   "metadata": {
    "execution": {
     "iopub.execute_input": "2025-03-19T15:49:47.288959Z",
     "iopub.status.busy": "2025-03-19T15:49:47.288728Z",
     "iopub.status.idle": "2025-03-19T15:49:47.301761Z",
     "shell.execute_reply": "2025-03-19T15:49:47.301197Z"
    },
    "papermill": {
     "duration": 0.018991,
     "end_time": "2025-03-19T15:49:47.303010",
     "exception": false,
     "start_time": "2025-03-19T15:49:47.284019",
     "status": "completed"
    },
    "tags": []
   },
   "outputs": [],
   "source": [
    "# generate data\n",
    "eval_dataset = generate_eval_dataset()"
   ]
  },
  {
   "cell_type": "markdown",
   "id": "74d0ae41",
   "metadata": {
    "papermill": {
     "duration": 0.003964,
     "end_time": "2025-03-19T15:49:47.311154",
     "exception": false,
     "start_time": "2025-03-19T15:49:47.307190",
     "status": "completed"
    },
    "tags": []
   },
   "source": [
    "# Simple PINN (Approach 1)\n",
    "\n",
    "### 1. Training Data Generation\n",
    "   * A grid of $z$ values ($100$ points) and $\\xi$ values ($10$ points) is created.\n",
    "   * The dataset is randomized by shuffling rows to improve training.\n",
    "   * Gradients are tracked for $z$ and $\\xi$, enabling automatic differentiation."
   ]
  },
  {
   "cell_type": "code",
   "execution_count": 4,
   "id": "7742bd61",
   "metadata": {
    "execution": {
     "iopub.execute_input": "2025-03-19T15:49:47.320338Z",
     "iopub.status.busy": "2025-03-19T15:49:47.320130Z",
     "iopub.status.idle": "2025-03-19T15:49:47.571446Z",
     "shell.execute_reply": "2025-03-19T15:49:47.570448Z"
    },
    "papermill": {
     "duration": 0.257567,
     "end_time": "2025-03-19T15:49:47.572898",
     "exception": false,
     "start_time": "2025-03-19T15:49:47.315331",
     "status": "completed"
    },
    "tags": []
   },
   "outputs": [
    {
     "name": "stdout",
     "output_type": "stream",
     "text": [
      "Length of dataset : 1000\n"
     ]
    }
   ],
   "source": [
    "z_train = torch.linspace(z_min, z_max, 100).view(-1, 1)  # Domain\n",
    "xi_train = torch.linspace(xi_min, xi_max, 10).view(-1, 1)  # Damping ratios\n",
    "\n",
    "z_grid, xi_grid = torch.meshgrid(z_train.squeeze(), xi_train.squeeze(), indexing='ij')\n",
    "z_train_flat, xi_train_flat = z_grid.reshape(-1, 1), xi_grid.reshape(-1, 1)\n",
    "\n",
    "train_data = torch.cat((z_train_flat, xi_train_flat), dim=1)\n",
    "train_data = train_data[torch.randperm(train_data.shape[0])]\n",
    "z_train_flat, xi_train_flat = train_data[:, 0].view(-1, 1), train_data[:, 1].view(-1, 1)\n",
    "\n",
    "z_train_flat.requires_grad = True\n",
    "xi_train_flat.requires_grad = True\n",
    "\n",
    "z_train_flat = z_train_flat.to(device)\n",
    "xi_train_flat = xi_train_flat.to(device)\n",
    "\n",
    "print(f\"Length of dataset : {z_train_flat.shape[0]}\")"
   ]
  },
  {
   "cell_type": "markdown",
   "id": "572e850e",
   "metadata": {
    "papermill": {
     "duration": 0.00431,
     "end_time": "2025-03-19T15:49:47.582159",
     "exception": false,
     "start_time": "2025-03-19T15:49:47.577849",
     "status": "completed"
    },
    "tags": []
   },
   "source": [
    "### 2. Define PINN architecture\n",
    "* Input Layer: Takes two inputs, $z$ (position) and $\\xi$ (damping ratio).\n",
    "* Hidden Layer: Fully connected (Linear) with $128$ neurons and Tanh activation.\n",
    "* Output Layer: A single neuron (Linear activation) predicts $x(z,\\xi).$"
   ]
  },
  {
   "cell_type": "code",
   "execution_count": 5,
   "id": "8f4d9bf9",
   "metadata": {
    "execution": {
     "iopub.execute_input": "2025-03-19T15:49:47.591310Z",
     "iopub.status.busy": "2025-03-19T15:49:47.591047Z",
     "iopub.status.idle": "2025-03-19T15:49:47.595224Z",
     "shell.execute_reply": "2025-03-19T15:49:47.594591Z"
    },
    "papermill": {
     "duration": 0.010251,
     "end_time": "2025-03-19T15:49:47.596497",
     "exception": false,
     "start_time": "2025-03-19T15:49:47.586246",
     "status": "completed"
    },
    "tags": []
   },
   "outputs": [],
   "source": [
    "class PINN(nn.Module):\n",
    "    def __init__(self):\n",
    "        super(PINN, self).__init__()\n",
    "        self.hidden = nn.Sequential(\n",
    "            nn.Linear(2, 128),\n",
    "            nn.Tanh(),\n",
    "            nn.Linear(128, 128),\n",
    "            nn.Tanh(),\n",
    "            nn.Linear(128, 1)\n",
    "        )\n",
    "    \n",
    "    def forward(self, z, xi):\n",
    "        inputs = torch.cat((z, xi), dim=1)\n",
    "        return self.hidden(inputs)"
   ]
  },
  {
   "cell_type": "markdown",
   "id": "b2d9703d",
   "metadata": {
    "papermill": {
     "duration": 0.004147,
     "end_time": "2025-03-19T15:49:47.604892",
     "exception": false,
     "start_time": "2025-03-19T15:49:47.600745",
     "status": "completed"
    },
    "tags": []
   },
   "source": [
    "### 3. Defining Loss Functions\n",
    "* Total training loss is defined as follows\n",
    "  \n",
    "\n",
    "    \n",
    "<div align=\"center\"> $\\mathcal{L} = \\mathcal{L}_{\\text{residual}} + \\mathcal{L}_{\\text{IC}}$ </div>\n",
    "\n",
    "\n",
    "\n",
    "* Where residual loss is calculated as follows\n",
    "\n",
    "\n",
    " <div align=\"center\"> $\\mathcal{L}_{\\text{residual}} = \\frac{1}{N} \\sum_{i=1}^{N} \\left( \\frac{d^2x}{dz^2} + 2\\xi \\frac{dx}{dz} + x \\right)^2$ </div>\n",
    "\n",
    "\n",
    "    \n",
    "* Initial conditions are enforced as follows\n",
    "\n",
    "\n",
    "<div align=\"center\"> $\\mathcal{L}_{\\text{IC}} = \\lambda_1 \\left( x(0) - x_0 \\right)^2 + \\lambda_2 \\left( \\frac{dx}{dz}(0) - v_0 \\right)^2$ </div>\n",
    "\n",
    "\n",
    "\n",
    "* L2 Loss to evaluate the training on `eval_dataset`\n",
    "\n",
    "<div align=\"center\"> $L_2 \\text{ error} = \\frac{||x_{\\text{PINN}} - x_{\\text{exact}}||_2}{||x_{\\text{exact}}||_2}$ </div>\n",
    " \n",
    "\n",
    "\n"
   ]
  },
  {
   "cell_type": "code",
   "execution_count": 6,
   "id": "d3d1ce13",
   "metadata": {
    "execution": {
     "iopub.execute_input": "2025-03-19T15:49:47.614065Z",
     "iopub.status.busy": "2025-03-19T15:49:47.613817Z",
     "iopub.status.idle": "2025-03-19T15:49:47.619210Z",
     "shell.execute_reply": "2025-03-19T15:49:47.618565Z"
    },
    "papermill": {
     "duration": 0.011177,
     "end_time": "2025-03-19T15:49:47.620309",
     "exception": false,
     "start_time": "2025-03-19T15:49:47.609132",
     "status": "completed"
    },
    "tags": []
   },
   "outputs": [],
   "source": [
    "lambda1 = 1000\n",
    "lambda2 = 1000\n",
    "def loss_fn():\n",
    "    x_pred = model(z_train_flat, xi_train_flat)\n",
    "    x_z = torch.autograd.grad(x_pred, z_train_flat, torch.ones_like(x_pred), create_graph=True)[0]\n",
    "    x_zz = torch.autograd.grad(x_z, z_train_flat, torch.ones_like(x_z), create_graph=True)[0]\n",
    "    \n",
    "    residual = x_zz + 2 * xi_train_flat * x_z + x_pred\n",
    "    \n",
    "    # Initial conditions\n",
    "    z0 = torch.tensor([[z_min]], requires_grad=True, device=device)\n",
    "    xi0 = torch.tensor([[xi_min]], requires_grad=True, device=device)\n",
    "    x0_pred = model(z0, xi0)\n",
    "    v0_pred = torch.autograd.grad(x0_pred, z0, torch.ones_like(x0_pred), create_graph=True)[0]\n",
    "    ic_loss = lambda1*(x0_pred - x0) ** 2 + lambda2*(v0_pred - v0) ** 2\n",
    "    \n",
    "    return torch.mean(residual**2) + torch.mean(ic_loss)\n",
    "\n",
    "def compute_L2_error(x_pinn, x_exact):\n",
    "    error_norm = torch.norm(x_pinn - x_exact, p=2)\n",
    "    exact_norm = torch.norm(x_exact, p=2)\n",
    "    L2_error = (error_norm / exact_norm).item()\n",
    "    return L2_error"
   ]
  },
  {
   "cell_type": "markdown",
   "id": "9771b1f3",
   "metadata": {
    "papermill": {
     "duration": 0.003969,
     "end_time": "2025-03-19T15:49:47.628375",
     "exception": false,
     "start_time": "2025-03-19T15:49:47.624406",
     "status": "completed"
    },
    "tags": []
   },
   "source": [
    "### 4. Training Strategy\n",
    "* Training at the beginning using `AdamW` optimizer\n",
    "* Using scheduler `ReduceLROnPlateau` with initial learning rate $0.001$\n",
    "* Further training using `LBFGS` optimizer for more accurate results"
   ]
  },
  {
   "cell_type": "code",
   "execution_count": 7,
   "id": "75c4f4dc",
   "metadata": {
    "execution": {
     "iopub.execute_input": "2025-03-19T15:49:47.637129Z",
     "iopub.status.busy": "2025-03-19T15:49:47.636917Z",
     "iopub.status.idle": "2025-03-19T15:49:50.968857Z",
     "shell.execute_reply": "2025-03-19T15:49:50.968196Z"
    },
    "papermill": {
     "duration": 3.337975,
     "end_time": "2025-03-19T15:49:50.970387",
     "exception": false,
     "start_time": "2025-03-19T15:49:47.632412",
     "status": "completed"
    },
    "tags": []
   },
   "outputs": [],
   "source": [
    "# Initializing \n",
    "epochs = 10_000\n",
    "lr=1e-3\n",
    "model = PINN().to(device)\n",
    "optimizer = optim.AdamW(model.parameters(), lr=lr, weight_decay=1e-4)\n",
    "scheduler = optim.lr_scheduler.CosineAnnealingLR(optimizer, T_max=epochs)\n",
    "z_test = torch.tensor(eval_dataset['z'], \n",
    "                      dtype=torch.float32).reshape((len(eval_dataset),1)).to(device)\n",
    "xi_test = torch.tensor(eval_dataset['xi'], \n",
    "                       dtype=torch.float32).reshape((len(eval_dataset),1)).to(device)\n",
    "x_exact = torch.tensor(eval_dataset['x'], \n",
    "                       dtype = torch.float32).reshape(len(eval_dataset), 1).to(device)"
   ]
  },
  {
   "cell_type": "code",
   "execution_count": 8,
   "id": "86213842",
   "metadata": {
    "execution": {
     "iopub.execute_input": "2025-03-19T15:49:50.980361Z",
     "iopub.status.busy": "2025-03-19T15:49:50.980016Z",
     "iopub.status.idle": "2025-03-19T15:50:49.260076Z",
     "shell.execute_reply": "2025-03-19T15:50:49.259288Z"
    },
    "papermill": {
     "duration": 58.28668,
     "end_time": "2025-03-19T15:50:49.261654",
     "exception": false,
     "start_time": "2025-03-19T15:49:50.974974",
     "status": "completed"
    },
    "tags": []
   },
   "outputs": [
    {
     "name": "stdout",
     "output_type": "stream",
     "text": [
      "Epoch 0: Loss = 2119.564941, L2 Loss = 1.330985\n",
      "Epoch 1000: Loss = 0.139734, L2 Loss = 0.923533\n",
      "Epoch 2000: Loss = 0.064373, L2 Loss = 0.646308\n",
      "Epoch 3000: Loss = 0.037214, L2 Loss = 0.528642\n",
      "Epoch 4000: Loss = 0.028658, L2 Loss = 0.514332\n",
      "Epoch 5000: Loss = 0.023829, L2 Loss = 0.513687\n",
      "Epoch 6000: Loss = 0.019935, L2 Loss = 0.513199\n",
      "Epoch 7000: Loss = 0.017740, L2 Loss = 0.511491\n",
      "Epoch 8000: Loss = 0.016548, L2 Loss = 0.508887\n",
      "Epoch 9000: Loss = 0.015984, L2 Loss = 0.506966\n"
     ]
    }
   ],
   "source": [
    "# Training loop\n",
    "train_losses = []\n",
    "l2_losses = []\n",
    "best_l2 = float('inf')\n",
    "for epoch in range(epochs):\n",
    "    optimizer.zero_grad()\n",
    "    loss = loss_fn()\n",
    "    loss.backward()\n",
    "    optimizer.step()\n",
    "    scheduler.step()\n",
    "    with torch.no_grad():\n",
    "        x_pinn = model(z_test, xi_test)\n",
    "        l2_error = compute_L2_error(x_pinn, x_exact)\n",
    "        l2_losses.append(l2_error/z_test.shape[0])\n",
    "    train_losses.append(loss.item()/z_train_flat.shape[0])\n",
    "    if l2_error < best_l2:\n",
    "        best_l2 = l2_error\n",
    "        torch.save({\n",
    "            'model_dict':model.state_dict()\n",
    "        }, 'Simple_PINN.pth')\n",
    "    \n",
    "    if epoch % 1000 == 0:\n",
    "        print(f\"Epoch {epoch}: Loss = {loss.item():.6f}, L2 Loss = {l2_error:.6f}\")"
   ]
  },
  {
   "cell_type": "code",
   "execution_count": 9,
   "id": "8b067a39",
   "metadata": {
    "execution": {
     "iopub.execute_input": "2025-03-19T15:50:49.272300Z",
     "iopub.status.busy": "2025-03-19T15:50:49.272061Z",
     "iopub.status.idle": "2025-03-19T15:50:49.279373Z",
     "shell.execute_reply": "2025-03-19T15:50:49.278612Z"
    },
    "papermill": {
     "duration": 0.013791,
     "end_time": "2025-03-19T15:50:49.280548",
     "exception": false,
     "start_time": "2025-03-19T15:50:49.266757",
     "status": "completed"
    },
    "tags": []
   },
   "outputs": [],
   "source": [
    "# Loding best model state and further training using LBFGS\n",
    "check_point = torch.load(\"Simple_PINN.pth\")\n",
    "model = PINN().to(device)\n",
    "model.load_state_dict(check_point['model_dict'])\n",
    "epochs = 500\n",
    "lr=1e-4\n",
    "optimizer = optim.LBFGS(model.parameters(), lr=lr, line_search_fn=\"strong_wolfe\")\n",
    "scheduler = optim.lr_scheduler.CosineAnnealingLR(optimizer, T_max=epochs)"
   ]
  },
  {
   "cell_type": "code",
   "execution_count": 10,
   "id": "3532c264",
   "metadata": {
    "execution": {
     "iopub.execute_input": "2025-03-19T15:50:49.290686Z",
     "iopub.status.busy": "2025-03-19T15:50:49.290483Z",
     "iopub.status.idle": "2025-03-19T15:50:49.293658Z",
     "shell.execute_reply": "2025-03-19T15:50:49.293062Z"
    },
    "papermill": {
     "duration": 0.009485,
     "end_time": "2025-03-19T15:50:49.294791",
     "exception": false,
     "start_time": "2025-03-19T15:50:49.285306",
     "status": "completed"
    },
    "tags": []
   },
   "outputs": [],
   "source": [
    "# closure function for LBFGS\n",
    "def closure():\n",
    "    optimizer.zero_grad()\n",
    "    loss = loss_fn()\n",
    "    loss.backward()\n",
    "    return loss"
   ]
  },
  {
   "cell_type": "code",
   "execution_count": 11,
   "id": "a81333f8",
   "metadata": {
    "execution": {
     "iopub.execute_input": "2025-03-19T15:50:49.304578Z",
     "iopub.status.busy": "2025-03-19T15:50:49.304381Z",
     "iopub.status.idle": "2025-03-19T15:50:57.461634Z",
     "shell.execute_reply": "2025-03-19T15:50:57.460948Z"
    },
    "papermill": {
     "duration": 8.163861,
     "end_time": "2025-03-19T15:50:57.463264",
     "exception": false,
     "start_time": "2025-03-19T15:50:49.299403",
     "status": "completed"
    },
    "tags": []
   },
   "outputs": [
    {
     "name": "stdout",
     "output_type": "stream",
     "text": [
      "Epoch 0: Loss = 0.015870, L2 Loss = 0.506523\n",
      "Epoch 50: Loss = 0.015870, L2 Loss = 0.506523\n",
      "Epoch 100: Loss = 0.015870, L2 Loss = 0.506523\n",
      "Epoch 150: Loss = 0.015870, L2 Loss = 0.506523\n",
      "Epoch 200: Loss = 0.015870, L2 Loss = 0.506523\n",
      "Epoch 250: Loss = 0.015870, L2 Loss = 0.506523\n",
      "Epoch 300: Loss = 0.015870, L2 Loss = 0.506523\n",
      "Epoch 350: Loss = 0.015870, L2 Loss = 0.506523\n",
      "Epoch 400: Loss = 0.015870, L2 Loss = 0.506523\n",
      "Epoch 450: Loss = 0.015870, L2 Loss = 0.506523\n"
     ]
    }
   ],
   "source": [
    "#Training loop \n",
    "best_l2 = float('inf')\n",
    "for epoch in range(epochs):\n",
    "    loss = optimizer.step(closure)\n",
    "    with torch.no_grad():\n",
    "        x_pinn = model(z_test, xi_test)\n",
    "        l2_error = compute_L2_error(x_pinn, x_exact)\n",
    "        l2_losses.append(l2_error/z_test.shape[0])\n",
    "    train_losses.append(loss.item()/z_train_flat.shape[0])\n",
    "    if l2_error < best_l2:\n",
    "        best_l2 = l2_error\n",
    "        torch.save({\n",
    "            'model_dict':model.state_dict()\n",
    "        }, 'Simple_PINN.pth')\n",
    "    if epoch % 50 == 0:\n",
    "        print(f\"Epoch {epoch}: Loss = {loss.item():.6f}, L2 Loss = {l2_error:.6f}\")\n",
    "        "
   ]
  },
  {
   "cell_type": "code",
   "execution_count": 12,
   "id": "cb457adf",
   "metadata": {
    "execution": {
     "iopub.execute_input": "2025-03-19T15:50:57.475009Z",
     "iopub.status.busy": "2025-03-19T15:50:57.474757Z",
     "iopub.status.idle": "2025-03-19T15:50:57.478884Z",
     "shell.execute_reply": "2025-03-19T15:50:57.477995Z"
    },
    "papermill": {
     "duration": 0.011087,
     "end_time": "2025-03-19T15:50:57.480222",
     "exception": false,
     "start_time": "2025-03-19T15:50:57.469135",
     "status": "completed"
    },
    "tags": []
   },
   "outputs": [
    {
     "name": "stdout",
     "output_type": "stream",
     "text": [
      "Best L2 score achieved through Simple PINN 0.5065234303474426\n"
     ]
    }
   ],
   "source": [
    "print(f\"Best L2 score achieved through Simple PINN {best_l2}\")"
   ]
  },
  {
   "cell_type": "markdown",
   "id": "65b01ac0",
   "metadata": {
    "papermill": {
     "duration": 0.004874,
     "end_time": "2025-03-19T15:50:57.490259",
     "exception": false,
     "start_time": "2025-03-19T15:50:57.485385",
     "status": "completed"
    },
    "tags": []
   },
   "source": [
    "# PINN using Fourier features (Approach 2)\n",
    "### 1. Data Generation\n",
    "* Same as previous models\n",
    "\n",
    "### 2. Define PINNF architecture\n",
    "* Fourier Feature Mapping: Uses 16 Fourier features with a scaling factor $σ=1.0$ to enhance input representation.\n",
    "* Fixed Fourier Features: The B matrix (random frequencies) is initialized and not trainable, ensuring stable feature transformation.\n",
    "* Expanded Input Dimension: The input $(z,ξ)$ is expanded to $2+2×16=34 $dimensions using sine and cosine projections.\n",
    "* Deep Network Architecture: 7 fully connected layers with Tanh activation.\n",
    "* Layer sizes:`input`$→128→256→512→512→256→128→$`output`\n",
    "* Projection to Frequency Domain: Transforms inputs using sine and cosine functions before passing through the network.\n",
    "* High Expressivity: Fourier features help the network learn high-frequency components, improving accuracy for complex functions.\n",
    "\n",
    "### 3. Training Strategy\n",
    "* Same as before"
   ]
  },
  {
   "cell_type": "code",
   "execution_count": 13,
   "id": "b43af115",
   "metadata": {
    "execution": {
     "iopub.execute_input": "2025-03-19T15:50:57.501145Z",
     "iopub.status.busy": "2025-03-19T15:50:57.500871Z",
     "iopub.status.idle": "2025-03-19T15:50:57.507410Z",
     "shell.execute_reply": "2025-03-19T15:50:57.506793Z"
    },
    "papermill": {
     "duration": 0.01316,
     "end_time": "2025-03-19T15:50:57.508529",
     "exception": false,
     "start_time": "2025-03-19T15:50:57.495369",
     "status": "completed"
    },
    "tags": []
   },
   "outputs": [],
   "source": [
    "class PINNF(nn.Module):\n",
    "    def __init__(self, input_dim=2, hidden_dim=128, output_dim=1, n_fourier_features=16, sigma=1.0):\n",
    "        super(PINNF, self).__init__()\n",
    "        \n",
    "        # Fourier feature parameters\n",
    "        self.n_fourier_features = n_fourier_features\n",
    "        self.sigma = sigma\n",
    "        self.B = torch.randn(input_dim, n_fourier_features) * sigma\n",
    "        self.B = nn.Parameter(self.B, requires_grad=False)  # Fixed random Fourier features\n",
    "        \n",
    "        # Calculate the expanded input dimension after applying Fourier features\n",
    "        expanded_dim = input_dim + 2 * n_fourier_features\n",
    "        \n",
    "        # Network layers\n",
    "        self.hidden = nn.Sequential(\n",
    "            nn.Linear(expanded_dim, hidden_dim),\n",
    "            nn.Tanh(),\n",
    "            nn.Linear(hidden_dim, 256),\n",
    "            nn.Tanh(),\n",
    "            nn.Linear(256, 512),\n",
    "            nn.Tanh(),\n",
    "            nn.Linear(512, 512),\n",
    "            nn.Tanh(),\n",
    "            nn.Linear(512, 256),\n",
    "            nn.Tanh(),\n",
    "            nn.Linear(256, hidden_dim),\n",
    "            nn.Tanh(),\n",
    "            nn.Linear(hidden_dim, output_dim)\n",
    "        )\n",
    "    \n",
    "    def fourier_features(self, x):\n",
    "        # x shape: [batch_size, input_dim]\n",
    "        # Project input to the frequency domain\n",
    "        projection = torch.matmul(x, self.B)  # [batch_size, n_fourier_features]\n",
    "        \n",
    "        # Apply sine and cosine to get Fourier features\n",
    "        sin_features = torch.sin(projection)\n",
    "        cos_features = torch.cos(projection)\n",
    "        \n",
    "        # Concatenate original input with Fourier features\n",
    "        return torch.cat([x, sin_features, cos_features], dim=1)\n",
    "    \n",
    "    def forward(self, z, xi):\n",
    "        # Combine spatial coordinates\n",
    "        inputs = torch.cat((z, xi), dim=1)\n",
    "        \n",
    "        # Apply Fourier feature mapping\n",
    "        inputs_mapped = self.fourier_features(inputs)\n",
    "        \n",
    "        # Pass through the network\n",
    "        return self.hidden(inputs_mapped)"
   ]
  },
  {
   "cell_type": "code",
   "execution_count": 14,
   "id": "862cd684",
   "metadata": {
    "execution": {
     "iopub.execute_input": "2025-03-19T15:50:57.519646Z",
     "iopub.status.busy": "2025-03-19T15:50:57.519444Z",
     "iopub.status.idle": "2025-03-19T15:50:57.534168Z",
     "shell.execute_reply": "2025-03-19T15:50:57.533591Z"
    },
    "papermill": {
     "duration": 0.021573,
     "end_time": "2025-03-19T15:50:57.535269",
     "exception": false,
     "start_time": "2025-03-19T15:50:57.513696",
     "status": "completed"
    },
    "tags": []
   },
   "outputs": [],
   "source": [
    "# initializing models\n",
    "epochs = 10_000\n",
    "lr=1e-3\n",
    "model = PINNF().to(device)\n",
    "optimizer = optim.AdamW(model.parameters(), lr=lr, weight_decay=1e-4)\n",
    "scheduler = optim.lr_scheduler.CosineAnnealingLR(optimizer, T_max=epochs)"
   ]
  },
  {
   "cell_type": "code",
   "execution_count": 15,
   "id": "04ad21aa",
   "metadata": {
    "execution": {
     "iopub.execute_input": "2025-03-19T15:50:57.546305Z",
     "iopub.status.busy": "2025-03-19T15:50:57.546099Z",
     "iopub.status.idle": "2025-03-19T15:53:05.162044Z",
     "shell.execute_reply": "2025-03-19T15:53:05.161092Z"
    },
    "papermill": {
     "duration": 127.623252,
     "end_time": "2025-03-19T15:53:05.163741",
     "exception": false,
     "start_time": "2025-03-19T15:50:57.540489",
     "status": "completed"
    },
    "tags": []
   },
   "outputs": [
    {
     "name": "stdout",
     "output_type": "stream",
     "text": [
      "Epoch 0: Loss = 2020.476807, L2 Loss = 0.862043\n",
      "Epoch 1000: Loss = 0.053909, L2 Loss = 0.452719\n",
      "Epoch 2000: Loss = 0.013367, L2 Loss = 0.376600\n",
      "Epoch 3000: Loss = 0.010999, L2 Loss = 0.338796\n",
      "Epoch 4000: Loss = 2.232193, L2 Loss = 0.317781\n",
      "Epoch 5000: Loss = 0.015991, L2 Loss = 0.295341\n",
      "Epoch 6000: Loss = 0.012850, L2 Loss = 0.290657\n",
      "Epoch 7000: Loss = 0.534728, L2 Loss = 0.342926\n",
      "Epoch 8000: Loss = 0.665913, L2 Loss = 0.291897\n",
      "Epoch 9000: Loss = 0.031646, L2 Loss = 0.261812\n"
     ]
    }
   ],
   "source": [
    "train_losses = []\n",
    "l2_losses = []\n",
    "best_l2 = float('inf')\n",
    "for epoch in range(epochs):\n",
    "    optimizer.zero_grad()\n",
    "    loss = loss_fn()\n",
    "    loss.backward()\n",
    "    #torch.nn.utils.clip_grad_norm_(model.parameters(), max_norm=1.0)\n",
    "    optimizer.step()\n",
    "    scheduler.step(loss)\n",
    "    with torch.no_grad():\n",
    "        x_pinn = model(z_test, xi_test)\n",
    "        l2_error = compute_L2_error(x_pinn, x_exact)\n",
    "        l2_losses.append(l2_error/z_test.shape[0])\n",
    "    train_losses.append(loss.item()/z_train_flat.shape[0])\n",
    "    if l2_error < best_l2:\n",
    "        best_l2 = l2_error\n",
    "        torch.save({\n",
    "            'model_dict':model.state_dict()\n",
    "        }, 'PINN_Fourier.pth')\n",
    "    \n",
    "    if epoch % 1000 == 0:\n",
    "        print(f\"Epoch {epoch}: Loss = {loss.item():.6f}, L2 Loss = {l2_error:.6f}\")"
   ]
  },
  {
   "cell_type": "code",
   "execution_count": 16,
   "id": "040f2d20",
   "metadata": {
    "execution": {
     "iopub.execute_input": "2025-03-19T15:53:05.176451Z",
     "iopub.status.busy": "2025-03-19T15:53:05.176202Z",
     "iopub.status.idle": "2025-03-19T15:53:05.192572Z",
     "shell.execute_reply": "2025-03-19T15:53:05.191971Z"
    },
    "papermill": {
     "duration": 0.023997,
     "end_time": "2025-03-19T15:53:05.193718",
     "exception": false,
     "start_time": "2025-03-19T15:53:05.169721",
     "status": "completed"
    },
    "tags": []
   },
   "outputs": [],
   "source": [
    "check_point = torch.load(\"PINN_Fourier.pth\")\n",
    "model = PINNF().to(device)\n",
    "model.load_state_dict(check_point['model_dict'])\n",
    "epochs = 500\n",
    "lr=1e-4\n",
    "optimizer = optim.LBFGS(model.parameters(), lr=lr, line_search_fn=\"strong_wolfe\")\n",
    "scheduler = optim.lr_scheduler.CosineAnnealingLR(optimizer, T_max=epochs)"
   ]
  },
  {
   "cell_type": "code",
   "execution_count": 17,
   "id": "68949ebd",
   "metadata": {
    "execution": {
     "iopub.execute_input": "2025-03-19T15:53:05.205819Z",
     "iopub.status.busy": "2025-03-19T15:53:05.205584Z",
     "iopub.status.idle": "2025-03-19T15:53:30.311674Z",
     "shell.execute_reply": "2025-03-19T15:53:30.310974Z"
    },
    "papermill": {
     "duration": 25.113684,
     "end_time": "2025-03-19T15:53:30.313208",
     "exception": false,
     "start_time": "2025-03-19T15:53:05.199524",
     "status": "completed"
    },
    "tags": []
   },
   "outputs": [
    {
     "name": "stdout",
     "output_type": "stream",
     "text": [
      "Epoch 0: Loss = 1.932029, L2 Loss = 0.264174\n",
      "Epoch 50: Loss = 0.012619, L2 Loss = 0.264406\n",
      "Epoch 100: Loss = 0.012619, L2 Loss = 0.264406\n",
      "Epoch 150: Loss = 0.012619, L2 Loss = 0.264406\n",
      "Epoch 200: Loss = 0.012619, L2 Loss = 0.264406\n",
      "Epoch 250: Loss = 0.012619, L2 Loss = 0.264406\n",
      "Epoch 300: Loss = 0.012619, L2 Loss = 0.264406\n",
      "Epoch 350: Loss = 0.012619, L2 Loss = 0.264406\n",
      "Epoch 400: Loss = 0.012619, L2 Loss = 0.264406\n",
      "Epoch 450: Loss = 0.012619, L2 Loss = 0.264406\n"
     ]
    }
   ],
   "source": [
    "for epoch in range(epochs):\n",
    "    loss = optimizer.step(closure)\n",
    "    with torch.no_grad():\n",
    "        x_pinn = model(z_test, xi_test)\n",
    "        l2_error = compute_L2_error(x_pinn, x_exact)\n",
    "        l2_losses.append(l2_error/z_test.shape[0])\n",
    "    train_losses.append(loss.item()/z_train_flat.shape[0])\n",
    "    if l2_error < best_l2:\n",
    "        best_l2 = l2_error\n",
    "        torch.save({\n",
    "            'model_dict':model.state_dict()\n",
    "        }, 'PINN_Fourier.pth')\n",
    "    if epoch % 50 == 0:\n",
    "        print(f\"Epoch {epoch}: Loss = {loss.item():.6f}, L2 Loss = {l2_error:.6f}\")"
   ]
  },
  {
   "cell_type": "code",
   "execution_count": 18,
   "id": "b0521089",
   "metadata": {
    "execution": {
     "iopub.execute_input": "2025-03-19T15:53:30.326845Z",
     "iopub.status.busy": "2025-03-19T15:53:30.326569Z",
     "iopub.status.idle": "2025-03-19T15:53:30.330633Z",
     "shell.execute_reply": "2025-03-19T15:53:30.329808Z"
    },
    "papermill": {
     "duration": 0.012031,
     "end_time": "2025-03-19T15:53:30.331888",
     "exception": false,
     "start_time": "2025-03-19T15:53:30.319857",
     "status": "completed"
    },
    "tags": []
   },
   "outputs": [
    {
     "name": "stdout",
     "output_type": "stream",
     "text": [
      "Best L2 score using Fourier features: 0.25400981307029724\n"
     ]
    }
   ],
   "source": [
    "print(f\"Best L2 score using Fourier features: {best_l2}\")"
   ]
  },
  {
   "cell_type": "markdown",
   "id": "c9a610c5-f1a6-4d1a-81f5-61d4d0d30edc",
   "metadata": {
    "papermill": {
     "duration": 0.005867,
     "end_time": "2025-03-19T15:53:30.343975",
     "exception": false,
     "start_time": "2025-03-19T15:53:30.338108",
     "status": "completed"
    },
    "tags": []
   },
   "source": [
    "# Final Comments\n",
    "* Significant Improvement with using fourier features as they are suitable for solving PDEs with oscillatory behaviour\n",
    "* Implemented physics-informed custom loss function\n",
    "* L2 loss is consistent with custom loss i.e. as custom loss decreases, L2 loss on analytical solution also decreases\n",
    "* Evaluated on exact solutions hence provides clear picture"
   ]
  }
 ],
 "metadata": {
  "kaggle": {
   "accelerator": "gpu",
   "dataSources": [
    {
     "datasetId": 6773993,
     "sourceId": 10899692,
     "sourceType": "datasetVersion"
    }
   ],
   "dockerImageVersionId": 30919,
   "isGpuEnabled": true,
   "isInternetEnabled": true,
   "language": "python",
   "sourceType": "notebook"
  },
  "kernelspec": {
   "display_name": "Python 3 (ipykernel)",
   "language": "python",
   "name": "python3"
  },
  "language_info": {
   "codemirror_mode": {
    "name": "ipython",
    "version": 3
   },
   "file_extension": ".py",
   "mimetype": "text/x-python",
   "name": "python",
   "nbconvert_exporter": "python",
   "pygments_lexer": "ipython3",
   "version": "3.12.7"
  },
  "papermill": {
   "default_parameters": {},
   "duration": 231.891182,
   "end_time": "2025-03-19T15:53:32.744254",
   "environment_variables": {},
   "exception": null,
   "input_path": "__notebook__.ipynb",
   "output_path": "__notebook__.ipynb",
   "parameters": {},
   "start_time": "2025-03-19T15:49:40.853072",
   "version": "2.6.0"
  }
 },
 "nbformat": 4,
 "nbformat_minor": 5
}
